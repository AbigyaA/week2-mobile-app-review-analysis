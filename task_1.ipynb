{
  "nbformat": 4,
  "nbformat_minor": 0,
  "metadata": {
    "colab": {
      "provenance": []
    },
    "kernelspec": {
      "name": "python3",
      "display_name": "Python 3"
    },
    "language_info": {
      "name": "python"
    }
  },
  "cells": [
    {
      "cell_type": "code",
      "execution_count": 1,
      "metadata": {
        "colab": {
          "base_uri": "https://localhost:8080/"
        },
        "id": "mBr1-1tNICnL",
        "outputId": "a8b8fd3b-8fc7-4642-a15f-5ddb3b22a7e1"
      },
      "outputs": [
        {
          "output_type": "stream",
          "name": "stdout",
          "text": [
            "Collecting google-play-scraper\n",
            "  Downloading google_play_scraper-1.2.7-py3-none-any.whl.metadata (50 kB)\n",
            "\u001b[?25l     \u001b[90m━━━━━━━━━━━━━━━━━━━━━━━━━━━━━━━━━━━━━━━━\u001b[0m \u001b[32m0.0/50.2 kB\u001b[0m \u001b[31m?\u001b[0m eta \u001b[36m-:--:--\u001b[0m\r\u001b[2K     \u001b[90m━━━━━━━━━━━━━━━━━━━━━━━━━━━━━━━━━━━━━━━━\u001b[0m \u001b[32m50.2/50.2 kB\u001b[0m \u001b[31m2.7 MB/s\u001b[0m eta \u001b[36m0:00:00\u001b[0m\n",
            "\u001b[?25hDownloading google_play_scraper-1.2.7-py3-none-any.whl (28 kB)\n",
            "Installing collected packages: google-play-scraper\n",
            "Successfully installed google-play-scraper-1.2.7\n"
          ]
        }
      ],
      "source": [
        "!pip install google-play-scraper\n"
      ]
    },
    {
      "cell_type": "code",
      "source": [
        "from google_play_scraper import reviews, Sort\n",
        "import pandas as pd\n",
        "import os\n",
        "\n",
        "def scrape_reviews(app_id, bank_name, num_reviews=500):\n",
        "    all_reviews = []\n",
        "    token = None\n",
        "\n",
        "    while len(all_reviews) < num_reviews:\n",
        "        result, token = reviews(\n",
        "            app_id,\n",
        "            lang='en',\n",
        "            country='us',\n",
        "            sort=Sort.NEWEST,\n",
        "            count=200,  # max per call\n",
        "            continuation_token=token\n",
        "        )\n",
        "\n",
        "        for review in result:\n",
        "            all_reviews.append({\n",
        "                \"review\": review['content'],\n",
        "                \"rating\": review['score'],\n",
        "                \"date\": review['at'].date().isoformat(),\n",
        "                \"bank\": bank_name,\n",
        "                \"source\": \"Google Play\"\n",
        "            })\n",
        "            if len(all_reviews) >= num_reviews:\n",
        "                break\n",
        "\n",
        "    return pd.DataFrame(all_reviews)\n"
      ],
      "metadata": {
        "id": "7U4_f4C8IGEW"
      },
      "execution_count": 4,
      "outputs": []
    },
    {
      "cell_type": "code",
      "source": [
        "df_cbe = scrape_reviews(\"com.combanketh.mobilebanking\", \"CBE\", num_reviews=500)\n",
        "df_boa = scrape_reviews(\"com.boa.boaMobileBanking\", \"BOA\", num_reviews=500)\n",
        "df_dashen = scrape_reviews(\"com.cr2.amolelight\", \"Dashen\", num_reviews=400)\n"
      ],
      "metadata": {
        "id": "XQg3Dmf_INBt"
      },
      "execution_count": 6,
      "outputs": []
    },
    {
      "cell_type": "code",
      "source": [
        "df_all = pd.concat([df_cbe, df_boa, df_dashen], ignore_index=True)\n",
        "df_all.drop_duplicates(inplace=True)\n",
        "df_all.dropna(subset=[\"review\", \"rating\", \"date\"], inplace=True)\n"
      ],
      "metadata": {
        "id": "YBf8GhJHIyp2"
      },
      "execution_count": 7,
      "outputs": []
    },
    {
      "cell_type": "code",
      "source": [
        "df_all['date'] = pd.to_datetime(df_all['date']).dt.strftime('%Y-%m-%d')\n"
      ],
      "metadata": {
        "id": "J7DKtpgMIztR"
      },
      "execution_count": 8,
      "outputs": []
    },
    {
      "cell_type": "code",
      "source": [
        "df_all.to_csv(\"cleaned_reviews.csv\", index=False)\n"
      ],
      "metadata": {
        "id": "mr0m4SbmI1xX"
      },
      "execution_count": 9,
      "outputs": []
    },
    {
      "cell_type": "code",
      "source": [],
      "metadata": {
        "id": "4NkZg13SI3rO"
      },
      "execution_count": null,
      "outputs": []
    }
  ]
}